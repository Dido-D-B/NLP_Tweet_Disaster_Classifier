{
 "cells": [
  {
   "cell_type": "markdown",
   "id": "0b5572c3",
   "metadata": {},
   "source": [
    "# Deep Learning\n",
    "\n",
    "Two deep learning architectures were tested:\n",
    "\n",
    "* Feedforward Neural Network (FNN) using TF-IDF vectors\n",
    "* Convolutional Neural Network (CNN) with embeddings\n",
    "\n",
    "The goal was to explore whether neural architectures could outperform traditional ML models in disaster tweet classification."
   ]
  },
  {
   "cell_type": "markdown",
   "id": "c0244259",
   "metadata": {},
   "source": [
    "`Performance Comparison Table`"
   ]
  },
  {
   "cell_type": "markdown",
   "id": "c194a471",
   "metadata": {},
   "source": [
    "<table border=\"1\" cellpadding=\"5\" cellspacing=\"0\">\n",
    "<tr>\n",
    "<th>Model</th>\n",
    "<th>Vectorizer / Input</th>\n",
    "<th>Accuracy</th>\n",
    "<th>Precision</th>\n",
    "<th>Recall</th>\n",
    "<th>F1-Score</th>\n",
    "<th>Notes</th>\n",
    "</tr>\n",
    "\n",
    "<tr>\n",
    "<td>Feedforward Neural Network (FNN)</td>\n",
    "<td>TF-IDF</td>\n",
    "<td>0.760</td>\n",
    "<td>0.729</td>\n",
    "<td>0.697</td>\n",
    "<td>0.712</td>\n",
    "<td>Lower precision and recall compared to classic ML; signs of underfitting</td>\n",
    "</tr>\n",
    "\n",
    "<tr>\n",
    "<td>Convolutional Neural Network (CNN)</td>\n",
    "<td>Word Embeddings</td>\n",
    "<td>0.793</td>\n",
    "<td>0.791</td>\n",
    "<td>0.697</td>\n",
    "<td>0.741</td>\n",
    "<td>Better than FNN, matches traditional ML but still slightly behind best LogReg</td>\n",
    "</tr>\n",
    "</table>"
   ]
  },
  {
   "cell_type": "markdown",
   "id": "4e6f7d74",
   "metadata": {},
   "source": [
    "`Observations`\n",
    "\n",
    "* FNN struggled to match the performance of Logistic Regression or MNB, with both precision and recall in the low 70% range.\n",
    "* CNN significantly outperformed FNN, achieving accuracy near 79.3% and balanced precision/recall, roughly matching MNB.\n",
    "* Neural models did not decisively outperform simpler baselines — indicating that for this dataset and size, classic ML models may be more efficient."
   ]
  },
  {
   "cell_type": "markdown",
   "id": "874d815f",
   "metadata": {},
   "source": [
    "`Key Takeaways`\n",
    "\n",
    "* CNN offers the most competitive DL result, but Logistic Regression with threshold tuning still leads in balancing recall and precision.\n",
    "* For future improvement, DL models could benefit from:\n",
    " * Larger training datasets\n",
    " * Pretrained embeddings (e.g., GloVe, FastText)\n",
    " * Hyperparameter tuning (layers, dropout, batch size)\n",
    " * Data augmentation or semi-supervised learning"
   ]
  },
  {
   "cell_type": "markdown",
   "id": "8c0adb5a",
   "metadata": {},
   "source": [
    "# Environment & Data\n",
    "\n",
    "This section covers all the imports like libraries and data."
   ]
  },
  {
   "cell_type": "code",
   "execution_count": null,
   "id": "6cbea03b",
   "metadata": {},
   "outputs": [],
   "source": [
    "import pickle\n",
    "\n",
    "# Data & Visualization\n",
    "import numpy as np\n",
    "import pandas as pd\n",
    "import matplotlib.pyplot as plt\n",
    "import seaborn as sns\n",
    "\n",
    "# Preprocessing\n",
    "from sklearn.feature_extraction.text import CountVectorizer, TfidfVectorizer\n",
    "from sklearn.model_selection import train_test_split\n",
    "from sklearn.utils.class_weight import compute_class_weight\n",
    "from tensorflow.keras.preprocessing.text import Tokenizer\n",
    "from tensorflow.keras.preprocessing.sequence import pad_sequences\n",
    "\n",
    "# Modeling\n",
    "import tensorflow as tf\n",
    "from tensorflow.keras import Input\n",
    "from tensorflow.keras.models import Sequential\n",
    "from tensorflow.keras.layers import (\n",
    "    Embedding,\n",
    "    Conv1D,\n",
    "    GlobalMaxPooling1D,\n",
    "    Dense,\n",
    "    Dropout\n",
    ")\n",
    "from tensorflow.keras.optimizers import Adam\n",
    "from tensorflow.keras.regularizers import l2\n",
    "from tensorflow.keras.callbacks import EarlyStopping, ReduceLROnPlateau\n",
    "\n",
    "# Evaluation Metrics\n",
    "from sklearn.metrics import (\n",
    "    accuracy_score,\n",
    "    precision_score,\n",
    "    recall_score,\n",
    "    f1_score,\n",
    "    classification_report,\n",
    "    confusion_matrix\n",
    ")"
   ]
  },
  {
   "cell_type": "code",
   "execution_count": 38,
   "id": "af0d5eab",
   "metadata": {},
   "outputs": [],
   "source": [
    "# File Paths\n",
    "import sys, os\n",
    "\n",
    "PROJECT_ROOT = os.path.abspath(os.path.join(os.getcwd(), '..'))\n",
    "if PROJECT_ROOT not in sys.path:\n",
    "    sys.path.insert(0, PROJECT_ROOT)\n",
    "\n",
    "from src.model_evaluation import evaluation_metrics, plot_conf_matrix, plot_classification_heatmap_only"
   ]
  },
  {
   "cell_type": "code",
   "execution_count": 39,
   "id": "7f677566",
   "metadata": {},
   "outputs": [],
   "source": [
    "# Visualization\n",
    "sns.set_palette(\"Set2\")"
   ]
  },
  {
   "cell_type": "code",
   "execution_count": 40,
   "id": "a2a02b65",
   "metadata": {},
   "outputs": [],
   "source": [
    "# Data Loading\n",
    "import pickle\n",
    "\n",
    "with open('../data/processed/X_train_clean.pkl', 'rb') as f:\n",
    "    X_train_clean = pickle.load(f)\n",
    "\n",
    "with open('../data/processed/X_test_clean.pkl', 'rb') as f:\n",
    "    X_test_clean = pickle.load(f)\n",
    "\n",
    "with open('../data/processed/y_train.pkl', 'rb') as f:\n",
    "    y_train = pickle.load(f)\n",
    "\n",
    "with open('../data/processed/y_test.pkl', 'rb') as f:\n",
    "    y_test = pickle.load(f)"
   ]
  },
  {
   "cell_type": "markdown",
   "id": "31152b04",
   "metadata": {},
   "source": [
    "# Feed-Forward Neural Network (FNN)\n",
    "\n",
    "We start our Deep Learning journey off with FNN.\n",
    "\n",
    "`Vectorization`\n",
    "\n",
    "We used a **TF-IDF Vectorizer** to transform our cleaned tweets into numerical features the model can understand.\n",
    "\n",
    "Unlike CountVectorizer which we used before for the baseline models, TF-IDF weighs words by **importance** — frequent words across all documents get lower weight, while rare but informative words get higher weight. This helps the neural network focus on discriminative terms.\n",
    "\n",
    "`Model Architecture`\n",
    "\n",
    "We built a **dense** feedforward neural network with **dropout** regularization.\n",
    "\n",
    "* **Input Layer**: Matches the dimensionality of the TF-IDF feature matrix.\n",
    "* **Dense Layers**: ReLU activation for non-linearity.\n",
    "* **Dropout Layers**: Reduce overfitting by randomly disabling neurons during training (0.5 and 0.3 rates).\n",
    "* **Output Layer**: Sigmoid activation to output probabilities for binary classification.\n",
    "\n",
    "`Model Compilation`\n",
    "\n",
    "* **Optimizer**: Adam, chosen for adaptive learning rate and strong performance on sparse data.\n",
    "* **Loss Function**: Binary cross-entropy, the standard choice for binary classification.\n",
    "* **Metric**: Accuracy, to monitor classification performance during training.\n",
    "\n",
    "`Training`\n",
    "\n",
    "We trained the model for 10 epochs with:\n",
    "\n",
    "* **Batch size**: 32\n",
    "* **Validation split**: 20% of training data for monitoring\n",
    "* **Data Conversion**: Converted sparse TF-IDF matrices to dense arrays before fitting.\n",
    "\n",
    "`Evaluation`\n",
    "\n",
    "* The model achieves **balanced performance** across both classes but struggles slightly more with disaster tweets, missing some true positives (recall = 0.70).\n",
    "* This suggests potential improvements via class weighting or different architectures."
   ]
  },
  {
   "cell_type": "code",
   "execution_count": 41,
   "id": "ed0b377e",
   "metadata": {},
   "outputs": [],
   "source": [
    "# TF-IDF vectorizer for NN input\n",
    "tfidf_vectorizer = TfidfVectorizer(\n",
    "    ngram_range=(1, 2),\n",
    "    min_df=2,\n",
    "    max_df=0.85,\n",
    "    max_features=10000\n",
    ")\n",
    "\n",
    "X_train_tfidf = tfidf_vectorizer.fit_transform(X_train_clean)\n",
    "X_test_tfidf = tfidf_vectorizer.transform(X_test_clean)"
   ]
  },
  {
   "cell_type": "code",
   "execution_count": 42,
   "id": "3325a34a",
   "metadata": {},
   "outputs": [],
   "source": [
    "# Build model with explicit Input layer\n",
    "fnn_model = Sequential([\n",
    "    Input(shape=(X_train_tfidf.shape[1],)),  # Replaces input_shape in Dense\n",
    "    Dense(128, activation='relu'),\n",
    "    Dropout(0.5),\n",
    "    Dense(64, activation='relu'),\n",
    "    Dropout(0.3),\n",
    "    Dense(1, activation='sigmoid')  # Binary classification\n",
    "])\n",
    "\n",
    "# Compile model\n",
    "fnn_model.compile(\n",
    "    optimizer=Adam(learning_rate=0.001),\n",
    "    loss='binary_crossentropy',\n",
    "    metrics=['accuracy']\n",
    ")"
   ]
  },
  {
   "cell_type": "code",
   "execution_count": 43,
   "id": "40d97d84",
   "metadata": {},
   "outputs": [
    {
     "name": "stdout",
     "output_type": "stream",
     "text": [
      "Epoch 1/10\n",
      "\u001b[1m153/153\u001b[0m \u001b[32m━━━━━━━━━━━━━━━━━━━━\u001b[0m\u001b[37m\u001b[0m \u001b[1m1s\u001b[0m 5ms/step - accuracy: 0.6638 - loss: 0.6020 - val_accuracy: 0.7808 - val_loss: 0.4749\n",
      "Epoch 2/10\n",
      "\u001b[1m153/153\u001b[0m \u001b[32m━━━━━━━━━━━━━━━━━━━━\u001b[0m\u001b[37m\u001b[0m \u001b[1m1s\u001b[0m 5ms/step - accuracy: 0.8528 - loss: 0.3480 - val_accuracy: 0.7923 - val_loss: 0.4975\n",
      "Epoch 3/10\n",
      "\u001b[1m153/153\u001b[0m \u001b[32m━━━━━━━━━━━━━━━━━━━━\u001b[0m\u001b[37m\u001b[0m \u001b[1m1s\u001b[0m 4ms/step - accuracy: 0.9208 - loss: 0.2160 - val_accuracy: 0.7775 - val_loss: 0.5805\n",
      "Epoch 4/10\n",
      "\u001b[1m153/153\u001b[0m \u001b[32m━━━━━━━━━━━━━━━━━━━━\u001b[0m\u001b[37m\u001b[0m \u001b[1m1s\u001b[0m 5ms/step - accuracy: 0.9514 - loss: 0.1454 - val_accuracy: 0.7693 - val_loss: 0.6536\n",
      "Epoch 5/10\n",
      "\u001b[1m153/153\u001b[0m \u001b[32m━━━━━━━━━━━━━━━━━━━━\u001b[0m\u001b[37m\u001b[0m \u001b[1m1s\u001b[0m 4ms/step - accuracy: 0.9659 - loss: 0.1045 - val_accuracy: 0.7759 - val_loss: 0.7334\n",
      "Epoch 6/10\n",
      "\u001b[1m153/153\u001b[0m \u001b[32m━━━━━━━━━━━━━━━━━━━━\u001b[0m\u001b[37m\u001b[0m \u001b[1m1s\u001b[0m 5ms/step - accuracy: 0.9715 - loss: 0.0853 - val_accuracy: 0.7767 - val_loss: 0.7875\n",
      "Epoch 7/10\n",
      "\u001b[1m153/153\u001b[0m \u001b[32m━━━━━━━━━━━━━━━━━━━━\u001b[0m\u001b[37m\u001b[0m \u001b[1m1s\u001b[0m 4ms/step - accuracy: 0.9750 - loss: 0.0719 - val_accuracy: 0.7742 - val_loss: 0.8526\n",
      "Epoch 8/10\n",
      "\u001b[1m153/153\u001b[0m \u001b[32m━━━━━━━━━━━━━━━━━━━━\u001b[0m\u001b[37m\u001b[0m \u001b[1m1s\u001b[0m 5ms/step - accuracy: 0.9768 - loss: 0.0725 - val_accuracy: 0.7677 - val_loss: 0.8563\n",
      "Epoch 9/10\n",
      "\u001b[1m153/153\u001b[0m \u001b[32m━━━━━━━━━━━━━━━━━━━━\u001b[0m\u001b[37m\u001b[0m \u001b[1m1s\u001b[0m 4ms/step - accuracy: 0.9813 - loss: 0.0586 - val_accuracy: 0.7685 - val_loss: 0.9167\n",
      "Epoch 10/10\n",
      "\u001b[1m153/153\u001b[0m \u001b[32m━━━━━━━━━━━━━━━━━━━━\u001b[0m\u001b[37m\u001b[0m \u001b[1m1s\u001b[0m 5ms/step - accuracy: 0.9789 - loss: 0.0632 - val_accuracy: 0.7627 - val_loss: 0.8898\n"
     ]
    }
   ],
   "source": [
    "# Train model\n",
    "history = fnn_model.fit(\n",
    "    X_train_tfidf.toarray(), y_train,\n",
    "    validation_split=0.2,\n",
    "    epochs=10,\n",
    "    batch_size=32,\n",
    "    verbose=1\n",
    ")"
   ]
  },
  {
   "cell_type": "code",
   "execution_count": 44,
   "id": "b1d32b4a",
   "metadata": {},
   "outputs": [
    {
     "name": "stdout",
     "output_type": "stream",
     "text": [
      "\u001b[1m48/48\u001b[0m \u001b[32m━━━━━━━━━━━━━━━━━━━━\u001b[0m\u001b[37m\u001b[0m \u001b[1m0s\u001b[0m 1ms/step \n",
      "Evaluation Metrics:\n",
      "-------------------\n",
      "Accuracy: 0.7537754432042022\n",
      "Precision: 0.7075757575757575\n",
      "Recall: 0.7195685670261941\n",
      "F1 Score: 0.7135217723453018\n"
     ]
    },
    {
     "data": {
      "image/png": "[encoded data removed]",
      "text/plain": [
       "<Figure size 600x400 with 2 Axes>"
      ]
     },
     "metadata": {},
     "output_type": "display_data"
    },
    {
     "name": "stdout",
     "output_type": "stream",
     "text": [
      "              precision    recall  f1-score   support\n",
      "\n",
      "Not Disaster       0.79      0.78      0.78       874\n",
      "    Disaster       0.71      0.72      0.71       649\n",
      "\n",
      "    accuracy                           0.75      1523\n",
      "   macro avg       0.75      0.75      0.75      1523\n",
      "weighted avg       0.75      0.75      0.75      1523\n",
      "\n"
     ]
    }
   ],
   "source": [
    "# Predict\n",
    "fnn_probs = fnn_model.predict(X_test_tfidf.toarray())\n",
    "fnn_preds = (fnn_probs >= 0.5).astype(int)\n",
    "\n",
    "# Evaluate\n",
    "evaluation_metrics(y_test, fnn_preds)\n",
    "plot_conf_matrix(y_test, fnn_preds, title=\"Feedforward Neural Network (TF-IDF Vectorizer)\")\n",
    "print(classification_report(y_test, fnn_preds, target_names=['Not Disaster', 'Disaster']))"
   ]
  },
  {
   "cell_type": "markdown",
   "id": "5e945f5c",
   "metadata": {},
   "source": [
    "# Convolutional Neural Network (CNN)\n",
    "\n",
    "While CNNs are often associated with image processing, they are also powerful for NLP tasks.\n",
    "\n",
    "In text classification, convolution layers can capture **local n-gram patterns** (e.g., “earthquake hits” or “breaking news”) regardless of their position in the sequence, making them effective for short, noisy texts like tweets.\n",
    "\n",
    "`Preprocessing`\n",
    "\n",
    "We used tokenization and padding to convert text into integer sequences.\n",
    "\n",
    "* **OOV token**: Handles unseen words at prediction time.\n",
    "* **Padding**: Ensures all sequences are the same length (post padding keeps structure consistent).\n",
    "\n",
    "We also computed **class weights** to help balance the slightly imbalanced dataset.\n",
    "\n",
    "`Model Architecture`\n",
    "\n",
    "* **Embedding Layer**: Learns dense vector representations for each word.\n",
    "* **Conv1D**: Detects local features in text (n-gram patterns).\n",
    "* **GlobalMaxPooling1D**: Reduces each feature map to its most important feature, keeping fixed size regardless of sequence length.\n",
    "* **Dropout Layers**: Prevent overfitting by randomly disabling neurons during training.\n",
    "* **Output Layer**: Sigmoid activation for binary classification.\n",
    "\n",
    "`Compilation & Training`\n",
    "\n",
    "* **Loss**: Binary cross-entropy for binary classification.\n",
    "* **Optimizer**: Adam, chosen for adaptive learning rates.\n",
    "* **Metrics**: Accuracy, precision, and recall for balanced evaluation.\n",
    "\n",
    "*We also used callbacks*:\n",
    "\n",
    "* **EarlyStopping**: Stops training when validation performance stops improving.\n",
    "* **ReduceLROnPlateau**: Lowers learning rate if validation loss plateaus.\n",
    "\n",
    "*Training setup*:\n",
    "\n",
    "* **Epochs**: 15\n",
    "* **atch size**: 32\n",
    "* **Validation split**: 20% of training data\n",
    "* **Class weights**: To give equal importance to both classes.\n",
    "\n",
    "`Performance`\n",
    "\n",
    "* Balanced performance between classes, with slightly better precision for both classes.\n",
    "* Recall for disaster class at 0.70 is strong given the trade-off with precision.\n",
    "\n",
    "`Why This Model Was Chosen for Deployment`\n",
    "\n",
    "* Outperformed other models (Logistic Regression, Naive Bayes, FNN, LSTM) in balanced performance across all metrics.\n",
    "* Robust against noisy short-text data thanks to convolutional feature extraction.\n",
    "* Good trade-off between complexity and inference speed, making it suitable for a real-time Streamlit app.\n"
   ]
  },
  {
   "cell_type": "code",
   "execution_count": 45,
   "id": "04184ac2",
   "metadata": {},
   "outputs": [],
   "source": [
    "# Parameters \n",
    "vocab_size = 10000\n",
    "embedding_dim = 128\n",
    "max_len = 100\n",
    "oov_token = \"<OOV>\"\n",
    "padding_type = 'post'\n",
    "trunc_type = 'post'\n",
    "\n",
    "# Tokenization & Padding\n",
    "tokenizer = Tokenizer(num_words=vocab_size, oov_token=oov_token)\n",
    "tokenizer.fit_on_texts(X_train_clean)\n",
    "\n",
    "X_train_seq = tokenizer.texts_to_sequences(X_train_clean)\n",
    "X_test_seq = tokenizer.texts_to_sequences(X_test_clean)\n",
    "\n",
    "X_train_pad = pad_sequences(X_train_seq, maxlen=max_len, padding=padding_type, truncating=trunc_type)\n",
    "X_test_pad = pad_sequences(X_test_seq, maxlen=max_len, padding=padding_type, truncating=trunc_type)\n",
    "\n",
    "# Class Weights \n",
    "class_weights = compute_class_weight(class_weight=\"balanced\", classes=np.unique(y_train), y=y_train)\n",
    "class_weights = dict(enumerate(class_weights))\n",
    "\n",
    "# Convert labels to arrays\n",
    "y_train_array = np.array(y_train)\n",
    "y_test_array = np.array(y_test)"
   ]
  },
  {
   "cell_type": "code",
   "execution_count": 46,
   "id": "2c8b4807",
   "metadata": {},
   "outputs": [
    {
     "name": "stdout",
     "output_type": "stream",
     "text": [
      "Epoch 1/15\n"
     ]
    },
    {
     "name": "stderr",
     "output_type": "stream",
     "text": [
      "/Users/didodeboodt/Documents/Projects/NLP_Tweet_Disaster_Classifier/venv/lib/python3.12/site-packages/keras/src/layers/core/embedding.py:97: UserWarning: Argument `input_length` is deprecated. Just remove it.\n",
      "  warnings.warn(\n"
     ]
    },
    {
     "name": "stdout",
     "output_type": "stream",
     "text": [
      "\u001b[1m153/153\u001b[0m \u001b[32m━━━━━━━━━━━━━━━━━━━━\u001b[0m\u001b[37m\u001b[0m \u001b[1m2s\u001b[0m 9ms/step - accuracy: 0.6112 - loss: 0.7140 - precision: 0.5470 - recall: 0.5412 - val_accuracy: 0.7578 - val_loss: 0.5854 - val_precision: 0.7217 - val_recall: 0.7285 - learning_rate: 0.0010\n",
      "Epoch 2/15\n",
      "\u001b[1m153/153\u001b[0m \u001b[32m━━━━━━━━━━━━━━━━━━━━\u001b[0m\u001b[37m\u001b[0m \u001b[1m1s\u001b[0m 8ms/step - accuracy: 0.8227 - loss: 0.4791 - precision: 0.7965 - recall: 0.7874 - val_accuracy: 0.7964 - val_loss: 0.4886 - val_precision: 0.8109 - val_recall: 0.6985 - learning_rate: 0.0010\n",
      "Epoch 3/15\n",
      "\u001b[1m153/153\u001b[0m \u001b[32m━━━━━━━━━━━━━━━━━━━━\u001b[0m\u001b[37m\u001b[0m \u001b[1m1s\u001b[0m 8ms/step - accuracy: 0.9058 - loss: 0.3163 - precision: 0.9022 - recall: 0.8750 - val_accuracy: 0.7742 - val_loss: 0.5502 - val_precision: 0.7342 - val_recall: 0.7603 - learning_rate: 0.0010\n",
      "Epoch 4/15\n",
      "\u001b[1m153/153\u001b[0m \u001b[32m━━━━━━━━━━━━━━━━━━━━\u001b[0m\u001b[37m\u001b[0m \u001b[1m1s\u001b[0m 9ms/step - accuracy: 0.9464 - loss: 0.2095 - precision: 0.9511 - recall: 0.9224 - val_accuracy: 0.7857 - val_loss: 0.5984 - val_precision: 0.7692 - val_recall: 0.7303 - learning_rate: 0.0010\n",
      "Epoch 5/15\n",
      "\u001b[1m153/153\u001b[0m \u001b[32m━━━━━━━━━━━━━━━━━━━━\u001b[0m\u001b[37m\u001b[0m \u001b[1m1s\u001b[0m 8ms/step - accuracy: 0.9674 - loss: 0.1502 - precision: 0.9726 - recall: 0.9507 - val_accuracy: 0.7849 - val_loss: 0.6529 - val_precision: 0.7615 - val_recall: 0.7416 - learning_rate: 5.0000e-04\n"
     ]
    },
    {
     "data": {
      "text/plain": [
       "<keras.src.callbacks.history.History at 0x3003614c0>"
      ]
     },
     "execution_count": 46,
     "metadata": {},
     "output_type": "execute_result"
    }
   ],
   "source": [
    "# Initialize and compile CNN model\n",
    "cnn_model = Sequential([\n",
    "    Embedding(input_dim=vocab_size, output_dim=embedding_dim, input_length=max_len),\n",
    "    Conv1D(64, 5, activation='relu', kernel_regularizer=l2(0.001)),\n",
    "    GlobalMaxPooling1D(),\n",
    "    Dropout(0.4),\n",
    "    Dense(16, activation='relu'),\n",
    "    Dropout(0.4),\n",
    "    Dense(1, activation='sigmoid')\n",
    "])\n",
    "\n",
    "cnn_model.compile(\n",
    "    loss='binary_crossentropy',\n",
    "    optimizer='adam',\n",
    "    metrics=[\n",
    "        'accuracy',\n",
    "        tf.keras.metrics.Precision(name='precision'),\n",
    "        tf.keras.metrics.Recall(name='recall')\n",
    "    ]\n",
    ")\n",
    "\n",
    "# Callbacks\n",
    "callbacks = [\n",
    "    EarlyStopping(patience=3, restore_best_weights=True),\n",
    "    ReduceLROnPlateau(patience=2, factor=0.5)\n",
    "]\n",
    "\n",
    "# Train Model\n",
    "cnn_model.fit(\n",
    "    X_train_pad,\n",
    "    y_train_array,\n",
    "    epochs=15,\n",
    "    batch_size=32, \n",
    "    validation_split=0.2,\n",
    "    class_weight=class_weights,\n",
    "    callbacks=callbacks\n",
    ")"
   ]
  },
  {
   "cell_type": "code",
   "execution_count": 47,
   "id": "ac317f89",
   "metadata": {},
   "outputs": [
    {
     "name": "stdout",
     "output_type": "stream",
     "text": [
      "\u001b[1m48/48\u001b[0m \u001b[32m━━━━━━━━━━━━━━━━━━━━\u001b[0m\u001b[37m\u001b[0m \u001b[1m0s\u001b[0m 2ms/step\n",
      "Evaluation Metrics:\n",
      "-------------------\n",
      "Accuracy: 0.7800393959290873\n",
      "Precision: 0.7599337748344371\n",
      "Recall: 0.7072419106317411\n",
      "F1 Score: 0.7326416600159616\n"
     ]
    },
    {
     "data": {
      "image/png": "[encoded data removed]",
      "text/plain": [
       "<Figure size 600x400 with 2 Axes>"
      ]
     },
     "metadata": {},
     "output_type": "display_data"
    },
    {
     "name": "stdout",
     "output_type": "stream",
     "text": [
      "              precision    recall  f1-score   support\n",
      "\n",
      "Not Disaster       0.79      0.83      0.81       874\n",
      "    Disaster       0.76      0.71      0.73       649\n",
      "\n",
      "    accuracy                           0.78      1523\n",
      "   macro avg       0.78      0.77      0.77      1523\n",
      "weighted avg       0.78      0.78      0.78      1523\n",
      "\n"
     ]
    }
   ],
   "source": [
    "# Predict\n",
    "y_pred_probs = cnn_model.predict(X_test_pad)\n",
    "y_pred = (y_pred_probs > 0.45).astype(int).flatten()\n",
    "\n",
    "# Evaluate\n",
    "evaluation_metrics(y_test_array, y_pred)\n",
    "plot_conf_matrix(y_test_array, y_pred, title=\"Convolutional Neural Network (CNN)\")\n",
    "print(classification_report(y_test_array, y_pred, target_names=['Not Disaster', 'Disaster']))"
   ]
  },
  {
   "cell_type": "code",
   "execution_count": 48,
   "id": "9c470b08",
   "metadata": {},
   "outputs": [
    {
     "data": {
      "image/png": "[encoded data removed]",
      "text/plain": [
       "<Figure size 700x500 with 1 Axes>"
      ]
     },
     "metadata": {},
     "output_type": "display_data"
    }
   ],
   "source": [
    "# Plot Train vs Test Accuracy\n",
    "test_accuracy = 0.7886\n",
    "train_accuracy = 0.9700\n",
    "\n",
    "# Labels and values\n",
    "labels = ['Train Accuracy', 'Test Accuracy']\n",
    "values = [train_accuracy, test_accuracy]\n",
    "colors = ['skyblue', 'salmon']\n",
    "\n",
    "# Plot\n",
    "plt.figure(figsize=(7, 5))\n",
    "bars = plt.bar(labels, values, color=colors)\n",
    "plt.ylim(0, 1)\n",
    "plt.title('Train vs Test Accuracy')\n",
    "plt.ylabel('Accuracy')\n",
    "\n",
    "# Add value labels above each bar\n",
    "for bar in bars:\n",
    "    height = bar.get_height() \n",
    "    plt.text(bar.get_x() + bar.get_width()/2.0, height - 0.1 , f\"{height*100:.2f}%\", ha='center', fontsize=12, weight='bold')\n",
    "plt.tight_layout()\n",
    "plt.show()"
   ]
  },
  {
   "cell_type": "code",
   "execution_count": 49,
   "id": "fa5df835",
   "metadata": {},
   "outputs": [
    {
     "data": {
      "image/png": "[encoded data removed]",
      "text/plain": [
       "<Figure size 800x400 with 2 Axes>"
      ]
     },
     "metadata": {},
     "output_type": "display_data"
    }
   ],
   "source": [
    "plot_classification_heatmap_only(y_test, y_pred)"
   ]
  },
  {
   "cell_type": "code",
   "execution_count": 50,
   "id": "88d4f1f8",
   "metadata": {},
   "outputs": [
    {
     "data": {
      "text/html": [
       "<div>\n",
       "<style scoped>\n",
       "    .dataframe tbody tr th:only-of-type {\n",
       "        vertical-align: middle;\n",
       "    }\n",
       "\n",
       "    .dataframe tbody tr th {\n",
       "        vertical-align: top;\n",
       "    }\n",
       "\n",
       "    .dataframe thead th {\n",
       "        text-align: right;\n",
       "    }\n",
       "</style>\n",
       "<table border=\"1\" class=\"dataframe\">\n",
       "  <thead>\n",
       "    <tr style=\"text-align: right;\">\n",
       "      <th></th>\n",
       "      <th>precision</th>\n",
       "      <th>recall</th>\n",
       "      <th>f1-score</th>\n",
       "    </tr>\n",
       "  </thead>\n",
       "  <tbody>\n",
       "    <tr>\n",
       "      <th>accuracy</th>\n",
       "      <td>0.78</td>\n",
       "      <td>0.78</td>\n",
       "      <td>0.78</td>\n",
       "    </tr>\n",
       "    <tr>\n",
       "      <th>macro avg</th>\n",
       "      <td>0.78</td>\n",
       "      <td>0.77</td>\n",
       "      <td>0.77</td>\n",
       "    </tr>\n",
       "    <tr>\n",
       "      <th>weighted avg</th>\n",
       "      <td>0.78</td>\n",
       "      <td>0.78</td>\n",
       "      <td>0.78</td>\n",
       "    </tr>\n",
       "  </tbody>\n",
       "</table>\n",
       "</div>"
      ],
      "text/plain": [
       "              precision  recall  f1-score\n",
       "accuracy           0.78    0.78      0.78\n",
       "macro avg          0.78    0.77      0.77\n",
       "weighted avg       0.78    0.78      0.78"
      ]
     },
     "execution_count": 50,
     "metadata": {},
     "output_type": "execute_result"
    }
   ],
   "source": [
    "def summary_table(y_true, y_pred):\n",
    "    report = classification_report(y_true, y_pred, output_dict=True)\n",
    "    df_report = pd.DataFrame(report).T\n",
    "    summary_df = df_report.loc[[\"accuracy\", \"macro avg\", \"weighted avg\"], [\"precision\", \"recall\", \"f1-score\"]].round(2)\n",
    "\n",
    "    return summary_df\n",
    "\n",
    "summary_table(y_test, y_pred)"
   ]
  },
  {
   "cell_type": "code",
   "execution_count": 51,
   "id": "5c207bdc",
   "metadata": {},
   "outputs": [
    {
     "name": "stdout",
     "output_type": "stream",
     "text": [
      "\n",
      "🔹 True Positive (correctly predicted disasters):\n",
      "• prince phillip said of the numbers of those murdered by the british at amritsar uithatuas bit exaggerated it must include the woundedu\n",
      "• back to the future in vanuatu how cyclone pam has encouraged traditional ways of living\n",
      "• fyi cadfyi accident property damagewpd th st\n",
      "\n",
      "🔹 True Negative (correctly predicted non-disasters):\n",
      "• printable emergency plan templates\n",
      "• finna storm fuck my back boutta start hurting like mf\n",
      "• womens tote faux leather handbags shoulder cross body top handle bags rose\n",
      "\n",
      "🔹 False Positive (wrongly predicted as disaster):\n",
      "• various issues fail to derail homes bid\n",
      "• on the nd year the officer team running the club collapsed few influential members betrayed everyones trust severing the community\n",
      "• dogs lightning reshapes rocks at the atomic level lightning strike can reshape minerals crystal structure\n",
      "\n",
      "🔹 False Negative (wrongly predicted as non-disaster):\n",
      "• sustainability task force presents levy to fund emergency services wdtv\n",
      "• eudrylantiqua hollywood movie about trapped miners released in chile the holly eudrylantiqua\n",
      "• fotoset elanorofrohan th december green carpet in zurich for the swiss premiere of the desolation\n"
     ]
    }
   ],
   "source": [
    "# Create evaluation DataFrame\n",
    "df_eval = pd.DataFrame({\n",
    "    'text': X_test_clean,     # cleaned text, not padded\n",
    "    'actual': y_test,\n",
    "    'predicted': y_pred\n",
    "})\n",
    "\n",
    "# Define class based on actual/predicted combo\n",
    "def classify(row):\n",
    "    if row['actual'] == 1 and row['predicted'] == 1:\n",
    "        return 'True Positive'\n",
    "    elif row['actual'] == 0 and row['predicted'] == 0:\n",
    "        return 'True Negative'\n",
    "    elif row['actual'] == 0 and row['predicted'] == 1:\n",
    "        return 'False Positive'\n",
    "    elif row['actual'] == 1 and row['predicted'] == 0:\n",
    "        return 'False Negative'\n",
    "\n",
    "df_eval['classification'] = df_eval.apply(classify, axis=1)\n",
    "\n",
    "# Add mapping to labels\n",
    "label_descriptions = {\n",
    "    'True Positive': 'True Positive (correctly predicted disasters)',\n",
    "    'True Negative': 'True Negative (correctly predicted non-disasters)',\n",
    "    'False Positive': 'False Positive (wrongly predicted as disaster)',\n",
    "    'False Negative': 'False Negative (wrongly predicted as non-disaster)'\n",
    "}\n",
    "\n",
    "# Loop through each label and print 3 examples\n",
    "for key, description in label_descriptions.items():\n",
    "    print(f\"\\n🔹 {description}:\")\n",
    "    examples = df_eval[df_eval['classification'] == key].sample(3, random_state=42)\n",
    "    for i, row in examples.iterrows():\n",
    "        print(f\"• {row['text']}\")\n",
    "\n",
    "# df_eval.to_csv(\"../app/eval_misclassified.csv\", index=False)        "
   ]
  },
  {
   "cell_type": "code",
   "execution_count": 52,
   "id": "5abfbc91",
   "metadata": {},
   "outputs": [],
   "source": [
    "from keras.saving import save_model\n",
    "\n",
    "save_model(cnn_model, \"../app/model/cnn_disaster_classifier.keras\")\n",
    "\n",
    "# Save tokenizer\n",
    "with open(\"../app/model/tokenizer.pickle\", \"wb\") as handle:\n",
    "    pickle.dump(tokenizer, handle)"
   ]
  }
 ],
 "metadata": {
  "kernelspec": {
   "display_name": "venv",
   "language": "python",
   "name": "python3"
  },
  "language_info": {
   "codemirror_mode": {
    "name": "ipython",
    "version": 3
   },
   "file_extension": ".py",
   "mimetype": "text/x-python",
   "name": "python",
   "nbconvert_exporter": "python",
   "pygments_lexer": "ipython3",
   "version": "3.12.2"
  }
 },
 "nbformat": 4,
 "nbformat_minor": 5
}
